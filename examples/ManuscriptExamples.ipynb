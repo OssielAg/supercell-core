{
 "cells": [
  {
   "cell_type": "code",
   "execution_count": 1,
   "metadata": {},
   "outputs": [],
   "source": [
    "import supercell_core as sc\n",
    "import numpy as np\n",
    "import matplotlib.pyplot as plt\n",
    "import pandas as pd"
   ]
  },
  {
   "cell_type": "code",
   "execution_count": 32,
   "metadata": {},
   "outputs": [],
   "source": [
    "gr = (sc.lattice()\n",
    "            # Default unita are Angstrom coordinates\n",
    "            .set_vectors([2.13, -1.23], [2.13, 1.23])\n",
    "            .add_atom(\"C\", [0, 0], unit=sc.Unit.Crystal)\n",
    "            .add_atom(\"C\", [2 / 3, 2 / 3], unit=sc.Unit.Crystal)\n",
    "           )\n",
    "ph = sc.read_POSCAR(\"data/POSCAR-P-NEW\", atomic_species=[\"P\"])\n",
    "hbn = sc.read_POSCAR(\"data/POSCAR_hBN\", atomic_species=[\"B\", \"N\"])\n",
    "ni = sc.read_POSCAR(\"data/POSCAR_Ni111\", atomic_species=[\"Ni\"])\n",
    "\n",
    "bilayer = (sc.heterostructure()\n",
    "           .set_substrate(gr)\n",
    "           .add_layer(gr)\n",
    "          )\n",
    "trilayer = (sc.heterostructure()\n",
    "           .set_substrate(gr)\n",
    "           .add_layer(gr)\n",
    "           .add_layer(gr)\n",
    "          )\n",
    "hgp = (sc.heterostructure()\n",
    "      .set_substrate(hbn)\n",
    "      .add_layer(gr)\n",
    "      .add_layer(ph)\n",
    "      )\n",
    "\n",
    "hpg = (sc.heterostructure()\n",
    "      .set_substrate(hbn)\n",
    "      .add_layer(ph)\n",
    "      .add_layer(gr)\n",
    "      )"
   ]
  },
  {
   "cell_type": "code",
   "execution_count": 27,
   "metadata": {},
   "outputs": [
    {
     "name": "stdout",
     "output_type": "stream",
     "text": [
      "MAGMOM flag: 2052*0\n"
     ]
    },
    {
     "data": {
      "text/plain": [
       "0.04098389728877475"
      ]
     },
     "execution_count": 27,
     "metadata": {},
     "output_type": "execute_result"
    }
   ],
   "source": [
    "thetas = [[0], [0.4 * sc.DEGREE]]\n",
    "tmp = hgp.opt(max_el=20, thetas=thetas)\n",
    "res_0_04 = hgp.calc(M=tmp.M(), thetas=tmp.thetas())\n",
    "res_0_04.superlattice().save_POSCAR(\"POSCAR_hgp_0_04\")\n",
    "res_0_04.max_strain()"
   ]
  },
  {
   "cell_type": "code",
   "execution_count": 23,
   "metadata": {},
   "outputs": [
    {
     "name": "stdout",
     "output_type": "stream",
     "text": [
      "MAGMOM flag: 922*0\n"
     ]
    },
    {
     "data": {
      "text/plain": [
       "0.09177894628439413"
      ]
     },
     "execution_count": 23,
     "metadata": {},
     "output_type": "execute_result"
    }
   ],
   "source": [
    "thetas = [[3.8 * sc.DEGREE], [18.1 * sc.DEGREE]]\n",
    "tmp = hpg.opt(max_el=20, thetas=thetas)\n",
    "res_3_18 = hpg.calc(M=tmp.M(), thetas=tmp.thetas())\n",
    "res_3_18.superlattice().save_POSCAR(\"POSCAR_hpg_3_18\")\n",
    "res_3_18.max_strain()"
   ]
  },
  {
   "cell_type": "code",
   "execution_count": 16,
   "metadata": {},
   "outputs": [
    {
     "data": {
      "text/plain": [
       "(<Figure size 432x288 with 1 Axes>,\n",
       " <matplotlib.axes._subplots.AxesSubplot at 0x7fa3c6fb5c50>)"
      ]
     },
     "execution_count": 16,
     "metadata": {},
     "output_type": "execute_result"
    },
    {
     "data": {
      "text/plain": [
       "<Figure size 432x288 with 0 Axes>"
      ]
     },
     "metadata": {},
     "output_type": "display_data"
    },
    {
     "data": {
      "image/png": "[encoded data removed]",
      "text/plain": [
       "<Figure size 432x288 with 1 Axes>"
      ]
     },
     "metadata": {
      "needs_background": "light"
     },
     "output_type": "display_data"
    }
   ],
   "source": [
    "res_3_18.superlattice().draw()"
   ]
  },
  {
   "cell_type": "code",
   "execution_count": 17,
   "metadata": {},
   "outputs": [],
   "source": [
    "# Temporary workaround for atom counts not being logged, Also, calculate thetas in deg instead of radians\n",
    "def fix_log(df, *layers): \n",
    "    def cellsize(lattice):\n",
    "        vecs = [v[0:2] for v in lattice.vectors()[0:2]]\n",
    "        return np.abs(np.linalg.det(np.array(vecs)))\n",
    "    \n",
    "    df[\"atom_count\"] = 0\n",
    "    for lay in layers:\n",
    "        df[\"atom_count\"] += df[\"supercell_size\"] / cellsize(lay) * len(lay.atoms())\n",
    "        \n",
    "    df[\"atom_count\"] = np.round(df[\"atom_count\"]).astype('int64')\n",
    "    \n",
    "    df[\"theta_0_deg\"] = df[\"theta_0\"] / sc.DEGREE\n",
    "    if \"theta_1\" in df.columns:\n",
    "        df[\"theta_1_deg\"] = df[\"theta_1\"] / sc.DEGREE\n",
    "    \n",
    "    return df"
   ]
  },
  {
   "cell_type": "code",
   "execution_count": 33,
   "metadata": {},
   "outputs": [],
   "source": [
    "# Optimise hbn/gr/ph for Lmax=10 or Lmax=40 using fast algorithm\n",
    "# Only for angles up to 30 degrees but in principle since there is no symmetry here,\n",
    "# we should perform full search\n",
    "res_hgp10 = hgp.opt(\n",
    "    max_el=10,\n",
    "    thetas=[np.arange(0, 30 * sc.DEGREE, 0.1 * sc.DEGREE), np.arange(0, 30 * sc.DEGREE, 0.1 * sc.DEGREE)],\n",
    "    algorithm=\"fast\",\n",
    "    log=True\n",
    ")\n",
    "\n",
    "log_hgp10 = fix_log(res_hgp10.log, hbn, gr, ph)\n",
    "log_hgp10.to_csv(\"hgp10.csv\")\n",
    "log_hgp10_head = log_hgp10.sort_values(\"max_strain\").head(20)\n",
    "log_hgp10_head.to_csv(\"hgp10_head.csv\")"
   ]
  },
  {
   "cell_type": "code",
   "execution_count": 34,
   "metadata": {},
   "outputs": [],
   "source": [
    "res_hgp40 = hgp.opt(\n",
    "    max_el=40,\n",
    "    thetas=[np.arange(0, 30 * sc.DEGREE, 0.1 * sc.DEGREE), np.arange(0, 30 * sc.DEGREE, 0.1 * sc.DEGREE)],\n",
    "    algorithm=\"fast\",\n",
    "    log=True\n",
    ")\n",
    "\n",
    "log_hgp40 = fix_log(res_hgp40.log, hbn, gr, ph)\n",
    "log_hgp40.to_csv(\"hgp40.csv\")\n",
    "log_hgp40_head = log_hgp40.sort_values(\"max_strain\").head(20)\n",
    "log_hgp40_head.to_csv(\"hgp40_head.csv\")"
   ]
  },
  {
   "cell_type": "code",
   "execution_count": 36,
   "metadata": {},
   "outputs": [
    {
     "name": "stdout",
     "output_type": "stream",
     "text": [
      "MAGMOM flag: 300*0\n",
      "MAGMOM flag: 3804*0\n"
     ]
    },
    {
     "data": {
      "text/plain": [
       "<supercell_core.lattice.Lattice at 0x7fa3c7474f50>"
      ]
     },
     "execution_count": 36,
     "metadata": {},
     "output_type": "execute_result"
    }
   ],
   "source": [
    "# Save POSCARs\n",
    "hgp.calc(M=res_hgp10.M(), thetas=res_hgp10.thetas()).superlattice().save_POSCAR(\"POSCAR10\")\n",
    "hgp.calc(M=res_hgp40.M(), thetas=res_hgp40.thetas()).superlattice().save_POSCAR(\"POSCAR40\")"
   ]
  },
  {
   "cell_type": "code",
   "execution_count": 39,
   "metadata": {},
   "outputs": [
    {
     "data": {
      "text/plain": [
       "[10.9, 29.900000000000002]"
      ]
     },
     "execution_count": 39,
     "metadata": {},
     "output_type": "execute_result"
    },
    {
     "data": {
      "text/plain": [
       "<Figure size 432x288 with 0 Axes>"
      ]
     },
     "metadata": {},
     "output_type": "display_data"
    },
    {
     "data": {
      "image/png": "[encoded data removed]",
      "text/plain": [
       "<Figure size 432x288 with 1 Axes>"
      ]
     },
     "metadata": {
      "needs_background": "light"
     },
     "output_type": "display_data"
    }
   ],
   "source": [
    "hgp.calc(M=res_hgp10.M(), thetas=res_hgp10.thetas()).superlattice().draw()\n",
    "[x / sc.DEGREE for x in res_hgp10.thetas()]"
   ]
  },
  {
   "cell_type": "code",
   "execution_count": 47,
   "metadata": {},
   "outputs": [
    {
     "data": {
      "text/plain": [
       "0.022797574474801068"
      ]
     },
     "execution_count": 47,
     "metadata": {},
     "output_type": "execute_result"
    }
   ],
   "source": [
    "hgp.calc(M=res_hgp10.M(), thetas=res_hgp10.thetas()).max_strain()"
   ]
  },
  {
   "cell_type": "code",
   "execution_count": 22,
   "metadata": {},
   "outputs": [],
   "source": [
    "# Optimise bilayer graphene using fast algorithm\n",
    "res_bilayer = bilayer.opt(\n",
    "    max_el=61,\n",
    "    thetas=[np.arange(0, 30 * sc.DEGREE, 0.1 * sc.DEGREE)],\n",
    "    algorithm=\"fast\",\n",
    "    log=True\n",
    ")\n",
    "\n",
    "log_bilayer = fix_log(res_bilayer.log, gr, gr)\n",
    "log_bilayer.to_csv(\"bilayer_graphene.csv\")"
   ]
  },
  {
   "cell_type": "code",
   "execution_count": 53,
   "metadata": {},
   "outputs": [
    {
     "name": "stdout",
     "output_type": "stream",
     "text": [
      "101 101\n"
     ]
    },
    {
     "data": {
      "image/png": "[encoded data removed]",
      "text/plain": [
       "<Figure size 432x288 with 2 Axes>"
      ]
     },
     "metadata": {
      "needs_background": "light"
     },
     "output_type": "display_data"
    }
   ],
   "source": [
    "# Colormap\n",
    "log4 = log_hgp10\n",
    "log_subset = log4[(log4.theta_0 >= 0 * sc.DEGREE)\n",
    "                  & (log4.theta_0 <= 10 * sc.DEGREE)\n",
    "                  & (log4.theta_1 >= 0 * sc.DEGREE)\n",
    "                  & (log4.theta_1 <= 10 * sc.DEGREE)]\n",
    "side1 = len(log_subset.theta_0.unique())\n",
    "side2 = len(log_subset.theta_1.unique())\n",
    "print(side1, side2)\n",
    "import matplotlib\n",
    "params = {'legend.fontsize': 'x-large',\n",
    "         'axes.labelsize': 'x-large',\n",
    "         'axes.titlesize':'x-large',\n",
    "         'xtick.labelsize':'x-large',\n",
    "         'ytick.labelsize':'x-large'}\n",
    "plt.rcParams.update(params)\n",
    "\n",
    "plt.pcolormesh(log_subset.theta_0.unique() / sc.DEGREE,\n",
    "               log_subset.theta_1.unique() / sc.DEGREE,\n",
    "               np.array(log_subset.max_strain).reshape(side1, side2),\n",
    "               cmap=\"inferno\", norm=matplotlib.colors.LogNorm())\n",
    "plt.colorbar()\n",
    "plt.xlabel(\"$\\\\theta_0$ [°]\", fontsize=14)\n",
    "plt.ylabel(\"$\\\\theta_1$ [°]\", fontsize=14)\n",
    "plt.title(\"min $\\sum_i L_{1, 1}(\\\\varepsilon_i)$\", fontsize=14)\n",
    "plt.tight_layout()\n",
    "plt.savefig(\"hgp_map_Lmax10_2020_07_26.png\")"
   ]
  },
  {
   "cell_type": "code",
   "execution_count": null,
   "metadata": {},
   "outputs": [],
   "source": []
  }
 ],
 "metadata": {
  "kernelspec": {
   "display_name": "python3-system",
   "language": "python",
   "name": "python3-system"
  },
  "language_info": {
   "codemirror_mode": {
    "name": "ipython",
    "version": 3
   },
   "file_extension": ".py",
   "mimetype": "text/x-python",
   "name": "python",
   "nbconvert_exporter": "python",
   "pygments_lexer": "ipython3",
   "version": "3.7.6"
  }
 },
 "nbformat": 4,
 "nbformat_minor": 4
}
